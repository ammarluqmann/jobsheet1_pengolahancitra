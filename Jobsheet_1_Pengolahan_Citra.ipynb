{
  "nbformat": 4,
  "nbformat_minor": 0,
  "metadata": {
    "colab": {
      "provenance": [],
      "authorship_tag": "ABX9TyO4tOBMf5wgshixZbG8DVO4",
      "include_colab_link": true
    },
    "kernelspec": {
      "name": "python3",
      "display_name": "Python 3"
    },
    "language_info": {
      "name": "python"
    }
  },
  "cells": [
    {
      "cell_type": "markdown",
      "metadata": {
        "id": "view-in-github",
        "colab_type": "text"
      },
      "source": [
        "<a href=\"https://colab.research.google.com/github/ammarluqmann/jobsheet1_pengolahancitra/blob/main/Jobsheet_1_Pengolahan_Citra.ipynb\" target=\"_parent\"><img src=\"https://colab.research.google.com/assets/colab-badge.svg\" alt=\"Open In Colab\"/></a>"
      ]
    },
    {
      "cell_type": "markdown",
      "source": [
        "# Jobsheet 1. Dasar Berkas Gambar (Citra)\n",
        "## Praktikum"
      ],
      "metadata": {
        "id": "5QgCB_Syxe--"
      }
    },
    {
      "cell_type": "code",
      "execution_count": null,
      "metadata": {
        "id": "Dip5Ih0CxE4l"
      },
      "outputs": [],
      "source": []
    }
  ]
}