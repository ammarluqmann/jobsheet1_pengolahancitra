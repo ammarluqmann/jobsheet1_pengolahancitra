{
  "nbformat": 4,
  "nbformat_minor": 0,
  "metadata": {
    "colab": {
      "provenance": [],
      "authorship_tag": "ABX9TyPzRnTo5zM4y6+/qK62bM6R",
      "include_colab_link": true
    },
    "kernelspec": {
      "name": "python3",
      "display_name": "Python 3"
    },
    "language_info": {
      "name": "python"
    }
  },
  "cells": [
    {
      "cell_type": "markdown",
      "metadata": {
        "id": "view-in-github",
        "colab_type": "text"
      },
      "source": [
        "<a href=\"https://colab.research.google.com/github/ammarluqmann/jobsheet1_pengolahancitra/blob/main/Jobsheet2.ipynb\" target=\"_parent\"><img src=\"https://colab.research.google.com/assets/colab-badge.svg\" alt=\"Open In Colab\"/></a>"
      ]
    },
    {
      "cell_type": "markdown",
      "source": [
        "# JOBSHEET 02: OPERASI DETEKSI TEPI"
      ],
      "metadata": {
        "id": "ZO6AvqMR3lUv"
      }
    },
    {
      "cell_type": "markdown",
      "source": [
        "#### Praktikum 1. Deteksi Tepi menggunakan operator sobel"
      ],
      "metadata": {
        "id": "7AKp_5cw3ytM"
      }
    },
    {
      "cell_type": "code",
      "execution_count": null,
      "metadata": {
        "id": "k9QC0zvL3hfW"
      },
      "outputs": [],
      "source": []
    },
    {
      "cell_type": "code",
      "source": [],
      "metadata": {
        "id": "he_gwTDU3snN"
      },
      "execution_count": null,
      "outputs": []
    }
  ]
}